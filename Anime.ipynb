{
 "cells": [
  {
   "cell_type": "code",
   "execution_count": 117,
   "id": "1598c841-2aac-4777-9f74-98ac2ffa7c49",
   "metadata": {},
   "outputs": [
    {
     "name": "stdout",
     "output_type": "stream",
     "text": [
      "<class 'pandas.core.frame.DataFrame'>\n",
      "RangeIndex: 18495 entries, 0 to 18494\n",
      "Data columns (total 17 columns):\n",
      " #   Column           Non-Null Count  Dtype  \n",
      "---  ------           --------------  -----  \n",
      " 0   Rank             18495 non-null  int64  \n",
      " 1   Name             18495 non-null  object \n",
      " 2   Japanese_name    7938 non-null   object \n",
      " 3   Type             18495 non-null  object \n",
      " 4   Episodes         9501 non-null   float64\n",
      " 5   Studio           12018 non-null  object \n",
      " 6   Release_season   4116 non-null   object \n",
      " 7   Tags             18095 non-null  object \n",
      " 8   Rating           15364 non-null  float64\n",
      " 9   Release_year     18112 non-null  float64\n",
      " 10  End_year         2854 non-null   float64\n",
      " 11  Description      18491 non-null  object \n",
      " 12  Content_Warning  1840 non-null   object \n",
      " 13  Related_Mange    7627 non-null   object \n",
      " 14  Related_anime    10063 non-null  object \n",
      " 15  Voice_actors     15309 non-null  object \n",
      " 16  staff            13005 non-null  object \n",
      "dtypes: float64(4), int64(1), object(12)\n",
      "memory usage: 2.4+ MB\n"
     ]
    }
   ],
   "source": [
    "import pandas as pd\n",
    "import matplotlib.pyplot as plt\n",
    "import numpy as np\n",
    "\n",
    "Data = pd.read_csv(\"Anime.csv\")\n",
    "Data.info()"
   ]
  },
  {
   "cell_type": "code",
   "execution_count": 118,
   "id": "586b9f71-4045-4390-8c73-ea00a59419ef",
   "metadata": {},
   "outputs": [
    {
     "data": {
      "text/plain": [
       "Rank                   0\n",
       "Name                   0\n",
       "Japanese_name      10557\n",
       "Type                   0\n",
       "Episodes            8994\n",
       "Studio              6477\n",
       "Release_season     14379\n",
       "Tags                 400\n",
       "Rating              3131\n",
       "Release_year         383\n",
       "End_year           15641\n",
       "Description            4\n",
       "Content_Warning    16655\n",
       "Related_Mange      10868\n",
       "Related_anime       8432\n",
       "Voice_actors        3186\n",
       "staff               5490\n",
       "dtype: int64"
      ]
     },
     "execution_count": 118,
     "metadata": {},
     "output_type": "execute_result"
    }
   ],
   "source": [
    "Data.isnull().sum()"
   ]
  },
  {
   "cell_type": "code",
   "execution_count": 119,
   "id": "f3c080e0-684a-4a02-b9b6-0e5b92bf60fb",
   "metadata": {},
   "outputs": [
    {
     "data": {
      "text/plain": [
       "0"
      ]
     },
     "execution_count": 119,
     "metadata": {},
     "output_type": "execute_result"
    }
   ],
   "source": [
    "Data['Rating'] = Data['Rating'].fillna(Data['Rating'].mean())\n",
    "Data['Rating'].isnull().sum()"
   ]
  },
  {
   "cell_type": "code",
   "execution_count": 120,
   "id": "06136752-50f2-4f89-afa9-4a919ab9cf66",
   "metadata": {},
   "outputs": [
    {
     "data": {
      "text/plain": [
       "Rank               0\n",
       "Name               0\n",
       "Japanese_name      0\n",
       "Type               0\n",
       "Episodes           0\n",
       "Studio             0\n",
       "Release_season     0\n",
       "Tags               0\n",
       "Rating             0\n",
       "Release_year       0\n",
       "End_year           0\n",
       "Description        0\n",
       "Content_Warning    0\n",
       "Related_Mange      0\n",
       "Related_anime      0\n",
       "Voice_actors       0\n",
       "staff              0\n",
       "dtype: int64"
      ]
     },
     "execution_count": 120,
     "metadata": {},
     "output_type": "execute_result"
    }
   ],
   "source": [
    "Data = Data.fillna(0)\n",
    "Data.isnull().sum()"
   ]
  },
  {
   "cell_type": "code",
   "execution_count": 121,
   "id": "96bf7dc3-be0b-45fb-b6ac-579a22633489",
   "metadata": {},
   "outputs": [
    {
     "name": "stdout",
     "output_type": "stream",
     "text": [
      "<class 'pandas.core.frame.DataFrame'>\n",
      "RangeIndex: 18495 entries, 0 to 18494\n",
      "Data columns (total 17 columns):\n",
      " #   Column           Non-Null Count  Dtype  \n",
      "---  ------           --------------  -----  \n",
      " 0   Rank             18495 non-null  int64  \n",
      " 1   Name             18495 non-null  object \n",
      " 2   Japanese_name    18495 non-null  object \n",
      " 3   Type             18495 non-null  object \n",
      " 4   Episodes         18495 non-null  float64\n",
      " 5   Studio           18495 non-null  object \n",
      " 6   Release_season   18495 non-null  object \n",
      " 7   Tags             18495 non-null  object \n",
      " 8   Rating           18495 non-null  float64\n",
      " 9   Release_year     18495 non-null  float64\n",
      " 10  End_year         18495 non-null  float64\n",
      " 11  Description      18495 non-null  object \n",
      " 12  Content_Warning  18495 non-null  object \n",
      " 13  Related_Mange    18495 non-null  object \n",
      " 14  Related_anime    18495 non-null  object \n",
      " 15  Voice_actors     18495 non-null  object \n",
      " 16  staff            18495 non-null  object \n",
      "dtypes: float64(4), int64(1), object(12)\n",
      "memory usage: 2.4+ MB\n"
     ]
    }
   ],
   "source": [
    "Data.info()"
   ]
  },
  {
   "cell_type": "code",
   "execution_count": 122,
   "id": "7cc92f25-a446-4c37-9695-b6c25b331242",
   "metadata": {},
   "outputs": [],
   "source": [
    "Data[\"Type\"] = Data[\"Type\"].astype(\"category\")\n",
    "Data[\"Studio\"] = Data[\"Studio\"].astype(\"category\")\n",
    "Data[\"Release_season\"] = Data[\"Release_season\"].astype(\"category\")\n",
    "Data[\"Content_Warning\"] = Data[\"Content_Warning\"].astype(\"category\")\n",
    "\n",
    "# Convert float columns that should be int\n",
    "Data[\"Episodes\"] = Data[\"Episodes\"].fillna(0).astype(int)\n",
    "Data[\"Release_year\"] = Data[\"Release_year\"].fillna(0).astype(int)\n",
    "Data[\"End_year\"] = Data[\"End_year\"].astype(\"Int64\")  # Nullable int type\n",
    "\n",
    "# Text columns\n",
    "Data[\"Description\"] = Data[\"Description\"].astype(str)\n",
    "Data[\"Voice_actors\"] = Data[\"Voice_actors\"].astype(str)\n",
    "Data[\"staff\"] = Data[\"staff\"].astype(str)"
   ]
  },
  {
   "cell_type": "code",
   "execution_count": 123,
   "id": "c39f9b94-e9e7-46b9-83a3-0deb693c018f",
   "metadata": {},
   "outputs": [
    {
     "name": "stdout",
     "output_type": "stream",
     "text": [
      "<class 'pandas.core.frame.DataFrame'>\n",
      "RangeIndex: 18495 entries, 0 to 18494\n",
      "Data columns (total 17 columns):\n",
      " #   Column           Non-Null Count  Dtype   \n",
      "---  ------           --------------  -----   \n",
      " 0   Rank             18495 non-null  int64   \n",
      " 1   Name             18495 non-null  object  \n",
      " 2   Japanese_name    18495 non-null  object  \n",
      " 3   Type             18495 non-null  category\n",
      " 4   Episodes         18495 non-null  int32   \n",
      " 5   Studio           18495 non-null  category\n",
      " 6   Release_season   18495 non-null  category\n",
      " 7   Tags             18495 non-null  object  \n",
      " 8   Rating           18495 non-null  float64 \n",
      " 9   Release_year     18495 non-null  int32   \n",
      " 10  End_year         18495 non-null  Int64   \n",
      " 11  Description      18495 non-null  object  \n",
      " 12  Content_Warning  18495 non-null  category\n",
      " 13  Related_Mange    18495 non-null  object  \n",
      " 14  Related_anime    18495 non-null  object  \n",
      " 15  Voice_actors     18495 non-null  object  \n",
      " 16  staff            18495 non-null  object  \n",
      "dtypes: Int64(1), category(4), float64(1), int32(2), int64(1), object(8)\n",
      "memory usage: 1.8+ MB\n"
     ]
    }
   ],
   "source": [
    "Data.info()"
   ]
  },
  {
   "cell_type": "code",
   "execution_count": 124,
   "id": "db1e7fe8-85ce-4c22-828b-9c71efa37132",
   "metadata": {},
   "outputs": [],
   "source": [
    "from sklearn.preprocessing import MultiLabelBinarizer\n",
    "\n",
    "# Step 1: Fill NaNs with empty string\n",
    "Data['Tags'] = Data['Tags'].fillna('')\n",
    "\n",
    "# Step 2: Convert all entries to string and split by comma\n",
    "Data['Tags_list'] = Data['Tags'].apply(lambda x: str(x).split(','))\n",
    "\n",
    "# Step 3: Remove extra spaces and clean empty strings\n",
    "Data['Tags_list'] = Data['Tags_list'].apply(lambda tags: [tag.strip() for tag in tags if tag.strip() != ''])\n",
    "\n",
    "# Step 4: Apply MultiLabelBinarizer\n",
    "mlb = MultiLabelBinarizer()\n",
    "tags_encoded = mlb.fit_transform(Data['Tags_list'])\n",
    "\n",
    "# Step 5: Convert to DataFrame and concatenate with original data\n",
    "tags_df = pd.DataFrame(tags_encoded, columns=mlb.classes_)\n",
    "Data = pd.concat([Data, tags_df], axis=1)\n",
    "\n"
   ]
  },
  {
   "cell_type": "code",
   "execution_count": 139,
   "id": "ca97ef6d-de66-42de-ba57-646dfbfaad3e",
   "metadata": {},
   "outputs": [],
   "source": [
    "from sklearn.neighbors import NearestNeighbors\n",
    "from sklearn.feature_extraction.text import TfidfVectorizer\n",
    "\n",
    "# Step 1: Join Tags list into a string\n",
    "Data['Tags_str'] = Data['Tags_list'].apply(lambda x: ' '.join(x))\n",
    "\n",
    "# Step 2: TF-IDF Vectorization\n",
    "tfidf = TfidfVectorizer()\n",
    "tfidf_matrix = tfidf.fit_transform(Data['Tags_str'])  # sparse matrix\n",
    "\n",
    "# Step 3: Fit Nearest Neighbors Model\n",
    "nn_model = NearestNeighbors(metric='cosine', algorithm='brute', n_neighbors=11)  # 1 (self) + 10 recommendations\n",
    "nn_model.fit(tfidf_matrix)\n",
    "\n",
    "# Step 4: Recommendation Function\n",
    "def get_recommendations(title):\n",
    "    # Get index of anime\n",
    "    idx = Data[Data['Name'] == title].index[0]\n",
    "    tfidf_vector = tfidf_matrix[idx]\n",
    "\n",
    "    # Find nearest neighbors\n",
    "    distances, indices = nn_model.kneighbors(tfidf_vector)\n",
    "\n",
    "    # Return top 10 recommended anime (excluding self)\n",
    "    recommended_indices = indices.flatten()[1:]  # Skip index 0 (same anime)\n",
    "    return Data['Name'].iloc[recommended_indices]\n"
   ]
  },
  {
   "cell_type": "code",
   "execution_count": 141,
   "id": "3acaffe1-965e-4c71-8aa9-3f6ee6d1fcbc",
   "metadata": {},
   "outputs": [
    {
     "data": {
      "text/plain": [
       "1116     Death Note Rewrite 1: Visions of a God\n",
       "1276       Death Note Rewrite 2: L's Successors\n",
       "2068              Neuro: Supernatural Detective\n",
       "900                                  ID:INVADED\n",
       "20      Code Geass: Lelouch of the Rebellion R2\n",
       "64         Code Geass: Lelouch of the Rebellion\n",
       "6059                    Descendants of Darkness\n",
       "1246                      Inuyashiki: Last Hero\n",
       "2482                            Angels of Death\n",
       "5352                    Monster Special Edition\n",
       "Name: Name, dtype: object"
      ]
     },
     "execution_count": 141,
     "metadata": {},
     "output_type": "execute_result"
    }
   ],
   "source": [
    "get_recommendations(\"Death Note\")"
   ]
  },
  {
   "cell_type": "code",
   "execution_count": 145,
   "id": "eacf4aa4-f8b3-4914-bc70-b807e96e7a37",
   "metadata": {},
   "outputs": [],
   "source": [
    "from sklearn.feature_extraction.text import TfidfVectorizer\n",
    "from sklearn.neighbors import NearestNeighbors\n",
    "\n",
    "# Step 1: Fill missing descriptions\n",
    "Data['Description'] = Data['Description'].fillna('')\n",
    "\n",
    "# Step 2: TF-IDF on Descriptions\n",
    "tfidf_desc = TfidfVectorizer(stop_words='english')\n",
    "tfidf_matrix_desc = tfidf_desc.fit_transform(Data['Description'])  # Sparse matrix\n",
    "\n",
    "# Step 3: Nearest Neighbors Model (for similarity)\n",
    "nn_desc = NearestNeighbors(metric='cosine', algorithm='brute', n_neighbors=11)\n",
    "nn_desc.fit(tfidf_matrix_desc)\n",
    "\n",
    "# Step 4: Recommendation Function\n",
    "def get_desc_recommendations(title):\n",
    "    idx = Data[Data['Name'] == title].index[0]\n",
    "    tfidf_vector = tfidf_matrix_desc[idx]\n",
    "\n",
    "    distances, indices = nn_desc.kneighbors(tfidf_vector)\n",
    "\n",
    "    # Skip the input anime itself (first one)\n",
    "    recommended_indices = indices.flatten()[1:]\n",
    "    return Data['Name'].iloc[recommended_indices]\n"
   ]
  },
  {
   "cell_type": "code",
   "execution_count": 147,
   "id": "68555f5d-03e1-48e3-8e7f-bb3e344b3f12",
   "metadata": {},
   "outputs": [
    {
     "data": {
      "text/plain": [
       "1116       Death Note Rewrite 1: Visions of a God\n",
       "6507                                Suna no Akari\n",
       "12342                             Soul Reviver PV\n",
       "15740                         The God of Death OP\n",
       "7776                  Momo: The Girl God of Death\n",
       "14911                            gdgd men's party\n",
       "18281                 CHARON Pluto’s lonesomeness\n",
       "15597                           Shadowverse Flame\n",
       "7534                                To Be Heroine\n",
       "935      Persona 3 the Movie 4: Winter of Rebirth\n",
       "Name: Name, dtype: object"
      ]
     },
     "execution_count": 147,
     "metadata": {},
     "output_type": "execute_result"
    }
   ],
   "source": [
    "get_desc_recommendations(\"Death Note\")\n"
   ]
  },
  {
   "cell_type": "code",
   "execution_count": 155,
   "id": "430b538e-aed7-4851-b6d9-50384634c7b4",
   "metadata": {},
   "outputs": [],
   "source": [
    "from sklearn.preprocessing import MultiLabelBinarizer\n",
    "from sklearn.neighbors import NearestNeighbors\n",
    "\n",
    "# Step 1: Convert 'Tags' column to list format\n",
    "Data['Tags'] = Data['Tags'].apply(lambda x: str(x))  # In case of non-string entries\n",
    "Data['Tags'] = Data['Tags'].apply(lambda x: [tag.strip() for tag in x.split(',')])\n",
    "\n",
    "# Step 2: Encode the tags\n",
    "mlb = MultiLabelBinarizer()\n",
    "tag_matrix = mlb.fit_transform(Data['Tags'])  # Sparse format\n",
    "\n",
    "# Step 3: Fit NearestNeighbors model\n",
    "nn_tag = NearestNeighbors(metric='cosine', algorithm='brute', n_neighbors=11)\n",
    "nn_tag.fit(tag_matrix)\n",
    "\n",
    "# Step 4: Recommendation function\n",
    "def get_tag_recommendations(title):\n",
    "    idx = Data[Data['Name'] == title].index[0]\n",
    "    tag_vector = tag_matrix[idx]\n",
    "\n",
    "    distances, indices = nn_tag.kneighbors(tag_vector)\n",
    "\n",
    "    recommended_indices = indices.flatten()[1:]  # Skip the input anime itself\n",
    "    return Data['Name'].iloc[recommended_indices]\n"
   ]
  },
  {
   "cell_type": "code",
   "execution_count": 165,
   "id": "40d937ff-f467-4e79-b2fe-e1c501c873e8",
   "metadata": {},
   "outputs": [],
   "source": [
    "from sklearn.neighbors import NearestNeighbors\n",
    "from sklearn.metrics.pairwise import cosine_similarity\n",
    "from sklearn.preprocessing import MultiLabelBinarizer\n",
    "from sklearn.feature_extraction.text import TfidfVectorizer\n",
    "import numpy as np\n",
    "\n",
    "# --- PREPARE TAG VECTORS ---\n",
    "Data['Tags'] = Data['Tags'].apply(lambda x: str(x))\n",
    "Data['Tags'] = Data['Tags'].apply(lambda x: [tag.strip() for tag in x.split(',')])\n",
    "mlb = MultiLabelBinarizer()\n",
    "tag_matrix = mlb.fit_transform(Data['Tags'])\n",
    "\n",
    "# --- PREPARE DESCRIPTION VECTORS ---\n",
    "Data['Description'] = Data['Description'].fillna('')\n",
    "tfidf = TfidfVectorizer(stop_words='english')\n",
    "desc_matrix = tfidf.fit_transform(Data['Description'])\n",
    "\n",
    "# --- HYBRID RECOMMENDATION FUNCTION ---\n",
    "def get_hybrid_recommendations(title, weight_tag=0.5, weight_desc=0.5):\n",
    "    idx = Data[Data['Name'] == title].index[0]\n",
    "    \n",
    "    # Compute similarity safely\n",
    "    sim_tag = cosine_similarity(tag_matrix[idx:idx+1], tag_matrix).flatten()\n",
    "    sim_desc = cosine_similarity(desc_matrix[idx:idx+1], desc_matrix).flatten()\n",
    "    \n",
    "    # Normalize\n",
    "    sim_tag = (sim_tag - sim_tag.min()) / (sim_tag.max() - sim_tag.min() + 1e-9)\n",
    "    sim_desc = (sim_desc - sim_desc.min()) / (sim_desc.max() - sim_desc.min() + 1e-9)\n",
    "\n",
    "    # Hybrid\n",
    "    hybrid_sim = weight_tag * sim_tag + weight_desc * sim_desc\n",
    "\n",
    "    # Get top 10 similar anime\n",
    "    top_indices = hybrid_sim.argsort()[::-1][1:11]\n",
    "    return Data['Name'].iloc[top_indices]\n"
   ]
  },
  {
   "cell_type": "code",
   "execution_count": 167,
   "id": "d52a36c6-453e-4a25-ac04-2ae8de75cfd2",
   "metadata": {},
   "outputs": [
    {
     "data": {
      "text/plain": [
       "1116                Death Note Rewrite 1: Visions of a God\n",
       "1276                  Death Note Rewrite 2: L's Successors\n",
       "1696                                   Detective Academy Q\n",
       "920           Detective Conan Movie 24: The Scarlet Bullet\n",
       "3953                                        Ayatsuri Sakon\n",
       "10983                              Suteki Tantei Labyrinth\n",
       "1538                          Kindaichi Shounen no Jikenbo\n",
       "6882     Kindaichi Shounen no Jikenbo: Shinigami Byouin...\n",
       "2459     Detective Conan: The Mysterious Written Invita...\n",
       "3004     Detective Conan: City Exploration! Get the Ani...\n",
       "Name: Name, dtype: object"
      ]
     },
     "execution_count": 167,
     "metadata": {},
     "output_type": "execute_result"
    }
   ],
   "source": [
    "get_hybrid_recommendations('Death Note')"
   ]
  },
  {
   "cell_type": "code",
   "execution_count": 169,
   "id": "384332b9-8eb8-46f7-bf92-4bb1f4c01186",
   "metadata": {},
   "outputs": [],
   "source": [
    "Data.to_csv(\"cleaned_data.csv\", index=False)\n"
   ]
  },
  {
   "cell_type": "code",
   "execution_count": 173,
   "id": "a7828443-c248-4e66-93c4-78461dc0de3b",
   "metadata": {},
   "outputs": [],
   "source": [
    "import pickle\n",
    "\n",
    "# Save tag-based similarity matrix\n",
    "with open(\"tag_cosine_sim.pkl\", \"wb\") as f:\n",
    "    pickle.dump(tag_cosine_sim, f)\n",
    "\n",
    "# Save description-based similarity matrix\n",
    "with open(\"desc_cosine_sim.pkl\", \"wb\") as f:\n",
    "    pickle.dump(cosine_sim_desc, f)  # ← correct name!\n",
    "\n",
    "# Save hybrid similarity matrix\n",
    "with open(\"hybrid_cosine_sim.pkl\", \"wb\") as f:\n",
    "    pickle.dump(hybrid_sim, f)  # ← correct if you used this name earlier\n"
   ]
  }
 ],
 "metadata": {
  "kernelspec": {
   "display_name": "Python [conda env:base] *",
   "language": "python",
   "name": "conda-base-py"
  },
  "language_info": {
   "codemirror_mode": {
    "name": "ipython",
    "version": 3
   },
   "file_extension": ".py",
   "mimetype": "text/x-python",
   "name": "python",
   "nbconvert_exporter": "python",
   "pygments_lexer": "ipython3",
   "version": "3.12.7"
  }
 },
 "nbformat": 4,
 "nbformat_minor": 5
}
